{
 "cells": [
  {
   "attachments": {},
   "cell_type": "markdown",
   "metadata": {},
   "source": [
    "# Ghép file tên"
   ]
  },
  {
   "attachments": {},
   "cell_type": "markdown",
   "metadata": {},
   "source": [
    "Thông số file:\n",
    "- Bitrate: 16\n",
    "- Tần số lấy mẫu: 16000Hz\n",
    "- Channel: Mono"
   ]
  },
  {
   "attachments": {},
   "cell_type": "markdown",
   "metadata": {},
   "source": [
    "### 1. Import libs"
   ]
  },
  {
   "cell_type": "code",
   "execution_count": 1,
   "metadata": {},
   "outputs": [],
   "source": [
    "import librosa\n",
    "import numpy as np\n",
    "import soundfile as sf"
   ]
  },
  {
   "cell_type": "code",
   "execution_count": 2,
   "metadata": {},
   "outputs": [],
   "source": [
    "# Tham số\n",
    "sr = 16000\n",
    "mono = True"
   ]
  },
  {
   "attachments": {},
   "cell_type": "markdown",
   "metadata": {},
   "source": [
    "### 2. Ghép âm"
   ]
  },
  {
   "cell_type": "code",
   "execution_count": 3,
   "metadata": {},
   "outputs": [],
   "source": [
    "def time_to_pos(t, sr):\n",
    "    return int(t * sr)"
   ]
  },
  {
   "cell_type": "code",
   "execution_count": 4,
   "metadata": {},
   "outputs": [],
   "source": [
    "def concatenate_sound(s1, s2, t1, t2, sr=16000, mono=True):\n",
    "\n",
    "    # Load file\n",
    "    sound1, _ = librosa.load(\n",
    "        s1,\n",
    "        sr=sr,\n",
    "        mono=mono\n",
    "    )\n",
    "\n",
    "    if s2 == None:\n",
    "        return sound1\n",
    "\n",
    "    sound2, _ = librosa.load(\n",
    "        s2,\n",
    "        sr=sr,\n",
    "        mono=mono\n",
    "    )\n",
    "\n",
    "    # Convert time to position\n",
    "    p1 = time_to_pos(t1, sr)\n",
    "    p2 = time_to_pos(t2, sr)\n",
    "\n",
    "    # Concatenate sound\n",
    "    sound1 = sound1[:p1]\n",
    "    sound2 = sound2[p2:]\n",
    "\n",
    "    # Energy balancing\n",
    "    e1 = np.sum(sound1 ** 2)\n",
    "    e2 = np.sum(sound2 ** 2)\n",
    "\n",
    "    if e1 >= e2:\n",
    "        sound1 /= e1/e2\n",
    "    else:\n",
    "        sound2 /= e2/e1\n",
    "\n",
    "    res = np.hstack([sound1, sound2])\n",
    "\n",
    "    #\n",
    "    return res\n"
   ]
  },
  {
   "cell_type": "code",
   "execution_count": 5,
   "metadata": {},
   "outputs": [],
   "source": [
    "def concatenate_name(dest, sr, *wordlist):\n",
    "    res = np.hstack(wordlist)\n",
    "    sf.write(dest, res, sr, subtype='PCM_16')"
   ]
  },
  {
   "cell_type": "code",
   "execution_count": 6,
   "metadata": {},
   "outputs": [],
   "source": [
    "# Âm Trần\n",
    "tran = concatenate_sound(\n",
    "    'wav/Trân.wav', \n",
    "    'wav/ần.wav',\n",
    "    0.296, \n",
    "    0.152, \n",
    "    sr=sr, \n",
    "    mono=mono\n",
    ")\n",
    "\n",
    "# Âm Thế\n",
    "dinh = concatenate_sound(\n",
    "    'wav/đi.wav', \n",
    "    'wav/ình.wav',\n",
    "    0.248, \n",
    "    0.168, \n",
    "    sr=sr, \n",
    "    mono=mono\n",
    ")\n",
    "\n",
    "# Âm Anh\n",
    "nguyen = concatenate_sound(\n",
    "    'wav/Nguy.wav', \n",
    "    None,\n",
    "    None, \n",
    "    None, \n",
    "    sr=sr, \n",
    "    mono=mono\n",
    ")\n",
    "\n",
    "\n",
    "# Ghép tên\n",
    "result = concatenate_name('wav/Trần-Đình-Nguyên-(mới).wav', sr, tran, dinh, nguyen)\n"
   ]
  }
 ],
 "metadata": {
  "kernelspec": {
   "display_name": "Python 3",
   "language": "python",
   "name": "python3"
  },
  "language_info": {
   "codemirror_mode": {
    "name": "ipython",
    "version": 3
   },
   "file_extension": ".py",
   "mimetype": "text/x-python",
   "name": "python",
   "nbconvert_exporter": "python",
   "pygments_lexer": "ipython3",
   "version": "3.10.4"
  },
  "orig_nbformat": 4,
  "vscode": {
   "interpreter": {
    "hash": "31671a60cee805c34c73116577b485118ff3a75c458d3004d49632c19702ac60"
   }
  }
 },
 "nbformat": 4,
 "nbformat_minor": 2
}
